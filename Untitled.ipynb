{
 "cells": [
  {
   "cell_type": "code",
   "execution_count": 77,
   "metadata": {},
   "outputs": [],
   "source": [
    "import matplotlib.pyplot as plt\n",
    "import numpy as np"
   ]
  },
  {
   "cell_type": "code",
   "execution_count": 105,
   "metadata": {},
   "outputs": [],
   "source": [
    "f = open('Data/SPEAR_MED_1850_CONTROL_SST_z_all_points_0_55w_30w_50n_60n.ascii', 'r')\n",
    "#FILE is seperated into chunks of:\n",
    "#18 lines, with 25 elements per line\n",
    "#Each chunk corresponds to one year"
   ]
  },
  {
   "cell_type": "code",
   "execution_count": 118,
   "metadata": {},
   "outputs": [],
   "source": [
    "#reset current position in file to begining\n",
    "temperatures = np.zeros((18, 25)) #18x25 Array of temps (one year)\n",
    "for i in range(18):\n",
    "    line = f.readline()\n",
    "    curr_temp = \"\"\n",
    "    j = 0\n",
    "    for char in line:\n",
    "        if char == \" \":\n",
    "            if curr_temp != \"\":\n",
    "                temperatures[i, j] = curr_temp\n",
    "                curr_temp = \"\"\n",
    "                j += 1\n",
    "            continue\n",
    "        else:\n",
    "            curr_temp += char\n",
    "    temperatures[i, j] = curr_temp\n",
    "    assert(j == 24)"
   ]
  },
  {
   "cell_type": "code",
   "execution_count": 103,
   "metadata": {},
   "outputs": [],
   "source": [
    "f.close()"
   ]
  },
  {
   "cell_type": "code",
   "execution_count": 119,
   "metadata": {
    "scrolled": true
   },
   "outputs": [
    {
     "data": {
      "text/plain": [
       "<matplotlib.image.AxesImage at 0x1064a7890>"
      ]
     },
     "execution_count": 119,
     "metadata": {},
     "output_type": "execute_result"
    },
    {
     "data": {
      "image/png": "[encoded data removed]",
      "text/plain": [
       "<Figure size 432x288 with 1 Axes>"
      ]
     },
     "metadata": {
      "needs_background": "light"
     },
     "output_type": "display_data"
    }
   ],
   "source": [
    "plt.imshow(temperatures)"
   ]
  },
  {
   "cell_type": "code",
   "execution_count": 74,
   "metadata": {},
   "outputs": [
    {
     "data": {
      "text/plain": [
       "6.920333333333333"
      ]
     },
     "execution_count": 74,
     "metadata": {},
     "output_type": "execute_result"
    }
   ],
   "source": [
    "temperatures.mean()"
   ]
  },
  {
   "cell_type": "code",
   "execution_count": 120,
   "metadata": {},
   "outputs": [
    {
     "name": "stdout",
     "output_type": "stream",
     "text": [
      "[[ 4.13  4.2   4.01  3.84  3.94  4.23  4.63  4.86  5.02  5.16  5.29  5.37\n",
      "   5.46  5.53  5.58  5.69  5.84  6.04  6.24  6.44  6.62  6.78  6.94  7.11\n",
      "   7.26]\n",
      " [ 3.65  3.79  3.7   3.7   3.86  4.18  4.56  4.8   4.93  5.05  5.12  5.16\n",
      "   5.22  5.28  5.36  5.5   5.66  5.85  6.04  6.21  6.36  6.51  6.66  6.85\n",
      "   7.04]\n",
      " [ 3.21  3.43  3.48  3.6   3.79  4.16  4.48  4.74  4.83  4.91  4.97  5.02\n",
      "   5.08  5.14  5.24  5.38  5.54  5.7   5.87  6.04  6.16  6.29  6.46  6.7\n",
      "   6.95]\n",
      " [ 2.97  3.18  3.32  3.46  3.72  4.13  4.43  4.65  4.72  4.78  4.86  4.97\n",
      "   5.05  5.12  5.2   5.31  5.43  5.57  5.71  5.87  5.98  6.14  6.34  6.63\n",
      "   6.97]\n",
      " [ 2.88  2.96  3.13  3.36  3.78  4.17  4.43  4.6   4.59  4.65  4.76  4.91\n",
      "   5.07  5.15  5.2   5.27  5.39  5.47  5.6   5.75  5.88  6.06  6.3   6.68\n",
      "   7.14]\n",
      " [ 2.82  2.85  3.08  3.41  3.91  4.28  4.48  4.55  4.48  4.59  4.67  4.85\n",
      "   5.1   5.19  5.19  5.26  5.4   5.48  5.6   5.73  5.88  6.08  6.41  6.95\n",
      "   7.52]\n",
      " [ 2.71  2.85  3.16  3.65  4.03  4.33  4.57  4.67  4.59  4.59  4.77  4.92\n",
      "   5.14  5.24  5.27  5.29  5.4   5.58  5.69  5.82  5.99  6.28  6.78  7.5\n",
      "   8.15]\n",
      " [ 2.54  2.79  3.23  3.77  4.07  4.44  4.67  4.71  4.7   4.66  4.78  5.02\n",
      "   5.23  5.31  5.33  5.35  5.47  5.68  5.81  6.01  6.33  6.79  7.51  8.26\n",
      "   8.87]\n",
      " [ 2.43  2.81  3.37  3.94  4.18  4.48  4.68  4.72  4.71  4.78  4.99  5.17\n",
      "   5.32  5.41  5.46  5.56  5.68  5.8   6.03  6.42  6.98  7.68  8.4   9.03\n",
      "   9.47]\n",
      " [ 2.66  3.08  3.55  3.98  4.26  4.43  4.67  4.76  4.84  4.98  5.19  5.31\n",
      "   5.44  5.52  5.64  5.77  5.93  6.12  6.52  7.01  7.72  8.39  9.05  9.56\n",
      "   9.91]\n",
      " [ 3.    3.17  3.62  3.98  4.18  4.34  4.59  4.86  5.05  5.21  5.42  5.6\n",
      "   5.72  5.82  5.89  6.09  6.26  6.62  7.18  7.79  8.38  8.98  9.52  9.9\n",
      "  10.14]\n",
      " [ 3.23  3.38  3.66  4.04  4.27  4.48  4.72  4.98  5.3   5.49  5.62  5.65\n",
      "   5.74  5.92  6.1   6.28  6.53  7.    7.5   8.05  8.71  9.38  9.75 10.04\n",
      "  10.23]\n",
      " [ 3.33  3.44  3.64  3.93  4.22  4.54  4.85  5.23  5.45  5.49  5.51  5.63\n",
      "   5.76  5.86  6.01  6.2   6.59  7.13  7.67  8.29  9.04  9.5   9.77  9.99\n",
      "  10.14]\n",
      " [ 3.36  3.4   3.58  3.92  4.36  4.69  5.07  5.15  5.3   5.35  5.42  5.51\n",
      "   5.6   5.7   5.84  6.01  6.42  7.2   7.84  8.46  9.07  9.42  9.64  9.91\n",
      "  10.04]\n",
      " [ 3.37  3.4   3.71  4.12  4.46  4.89  5.06  5.09  5.15  5.15  5.21  5.24\n",
      "   5.35  5.52  5.73  5.97  6.38  7.14  7.85  8.47  8.93  9.24  9.44  9.75\n",
      "   9.89]\n",
      " [ 3.6   3.63  3.94  4.32  4.63  4.89  4.88  4.93  4.93  4.91  4.91  4.96\n",
      "   5.08  5.29  5.55  5.86  6.34  7.1   7.88  8.39  8.76  9.03  9.21  9.52\n",
      "   9.68]\n",
      " [ 3.81  3.84  4.14  4.45  4.74  4.81  4.79  4.77  4.74  4.76  4.73  4.76\n",
      "   4.8   4.95  5.29  5.68  6.18  6.91  7.73  8.26  8.55  8.79  8.97  9.25\n",
      "   9.42]\n",
      " [ 4.    4.05  4.27  4.54  4.65  4.73  4.72  4.66  4.52  4.37  4.4   4.56\n",
      "   4.64  4.62  5.06  5.57  6.11  6.69  7.45  8.04  8.36  8.59  8.75  8.96\n",
      "   9.19]]\n"
     ]
    }
   ],
   "source": [
    "print(temperatures)"
   ]
  },
  {
   "cell_type": "code",
   "execution_count": null,
   "metadata": {},
   "outputs": [],
   "source": []
  }
 ],
 "metadata": {
  "kernelspec": {
   "display_name": "Python 3",
   "language": "python",
   "name": "python3"
  },
  "language_info": {
   "codemirror_mode": {
    "name": "ipython",
    "version": 3
   },
   "file_extension": ".py",
   "mimetype": "text/x-python",
   "name": "python",
   "nbconvert_exporter": "python",
   "pygments_lexer": "ipython3",
   "version": "3.7.6"
  }
 },
 "nbformat": 4,
 "nbformat_minor": 4
}
